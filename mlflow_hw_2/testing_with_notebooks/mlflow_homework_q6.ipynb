{
 "cells": [
  {
   "cell_type": "code",
   "execution_count": 11,
   "id": "1a6edf27-031d-43ba-af8f-130b48dcdd34",
   "metadata": {},
   "outputs": [],
   "source": [
    "import os\n",
    "import pickle\n",
    "import click\n",
    "import mlflow\n",
    "\n",
    "from mlflow.entities import ViewType\n",
    "from mlflow.tracking import MlflowClient\n",
    "from sklearn.ensemble import RandomForestRegressor\n",
    "from sklearn.metrics import root_mean_squared_error"
   ]
  },
  {
   "cell_type": "code",
   "execution_count": 12,
   "id": "4110c715-3f0b-4b5d-9a35-76fa1b22fab5",
   "metadata": {},
   "outputs": [],
   "source": [
    "HPO_EXPERIMENT_NAME = \"random-forest-hyperopt\"\n",
    "EXPERIMENT_NAME = \"random-forest-best-models\"\n",
    "RF_PARAMS = ['max_depth', 'n_estimators', 'min_samples_split', 'min_samples_leaf', 'random_state']\n",
    "LOCAL_TRACKING_SERVER = \"http://127.0.0.1:5000\"\n",
    "\n",
    "mlflow.set_tracking_uri(LOCAL_TRACKING_SERVER)\n",
    "mlflow.set_experiment(EXPERIMENT_NAME)\n",
    "mlflow.sklearn.autolog()\n"
   ]
  },
  {
   "cell_type": "code",
   "execution_count": 14,
   "id": "7e16b04f-f542-4eed-b96f-c0ba3fc3dccc",
   "metadata": {},
   "outputs": [],
   "source": [
    "def load_pickle(filename):\n",
    "    with open(filename, \"rb\") as f_in:\n",
    "        return pickle.load(f_in)\n",
    "\n",
    "\n",
    "def train_and_log_model(data_path, params):\n",
    "    X_train, y_train = load_pickle(os.path.join(data_path, \"train.pkl\"))\n",
    "    X_val, y_val = load_pickle(os.path.join(data_path, \"val.pkl\"))\n",
    "    X_test, y_test = load_pickle(os.path.join(data_path, \"test.pkl\"))\n",
    "\n",
    "    with mlflow.start_run():\n",
    "        for param in RF_PARAMS:\n",
    "            params[param] = int(params[param])\n",
    "\n",
    "        rf = RandomForestRegressor(**params)\n",
    "        rf.fit(X_train, y_train)\n",
    "\n",
    "        # Evaluate model on the validation and test sets\n",
    "        # val_rmse = mean_squared_error(y_val, rf.predict(X_val), squared=False)\n",
    "        val_rmse = root_mean_squared_error(y_val, rf.predict(X_val))\n",
    "        mlflow.log_metric(\"val_rmse\", val_rmse)\n",
    "        # test_rmse = mean_squared_error(y_test, rf.predict(X_test), squared=False)\n",
    "        test_rmse = root_mean_squared_error(y_test, rf.predict(X_test))\n",
    "        mlflow.log_metric(\"test_rmse\", test_rmse)\n"
   ]
  },
  {
   "cell_type": "code",
   "execution_count": 17,
   "id": "0ac0c10f-f809-47bf-a216-888b8e44358c",
   "metadata": {},
   "outputs": [],
   "source": [
    "def run_register_model(data_path: str, top_n: int):\n",
    "\n",
    "    client = MlflowClient()\n",
    "\n",
    "    # Retrieve the top_n model runs and log the models\n",
    "    experiment = client.get_experiment_by_name(HPO_EXPERIMENT_NAME)\n",
    "    runs = client.search_runs(\n",
    "        experiment_ids=experiment.experiment_id,\n",
    "        run_view_type=ViewType.ACTIVE_ONLY,\n",
    "        max_results=top_n,\n",
    "        order_by=[\"metrics.rmse ASC\"]\n",
    "    )\n",
    "    for run in runs:\n",
    "        train_and_log_model(data_path=data_path, params=run.data.params)\n",
    "\n",
    "    # Select the model with the lowest test RMSE\n",
    "    experiment = client.get_experiment_by_name(EXPERIMENT_NAME)\n",
    "    best_run = client.search_runs(\n",
    "        experiment_ids=experiment.experiment_id,\n",
    "        run_view_type=ViewType.ACTIVE_ONLY,\n",
    "        max_results=top_n,\n",
    "        order_by=[\"metrics.rmse ASC\"]\n",
    "    )[0]\n",
    "\n",
    "    mlflow.register_model(model_uri=f\"runs:/{best_run.info.run_id}/models\", \n",
    "                          name=\"best_taxi_experiment_model\"\n",
    "                         )\n",
    "\n",
    "    return \n",
    "\n"
   ]
  },
  {
   "cell_type": "code",
   "execution_count": 18,
   "id": "4abd469e-bf0f-4add-8647-8e72e06abeee",
   "metadata": {},
   "outputs": [
    {
     "name": "stderr",
     "output_type": "stream",
     "text": [
      "2024/05/26 18:38:26 WARNING mlflow.sklearn: Failed to log training dataset information to MLflow Tracking. Reason: 'numpy.ndarray' object has no attribute 'toarray'\n",
      "2024/05/26 18:38:49 WARNING mlflow.sklearn: Failed to log training dataset information to MLflow Tracking. Reason: 'numpy.ndarray' object has no attribute 'toarray'\n",
      "2024/05/26 18:39:12 WARNING mlflow.sklearn: Failed to log training dataset information to MLflow Tracking. Reason: 'numpy.ndarray' object has no attribute 'toarray'\n",
      "2024/05/26 18:39:33 WARNING mlflow.sklearn: Failed to log training dataset information to MLflow Tracking. Reason: 'numpy.ndarray' object has no attribute 'toarray'\n",
      "2024/05/26 18:39:53 WARNING mlflow.sklearn: Failed to log training dataset information to MLflow Tracking. Reason: 'numpy.ndarray' object has no attribute 'toarray'\n"
     ]
    }
   ],
   "source": [
    "e, r = run_register_model(\"./output\", 5)"
   ]
  },
  {
   "cell_type": "code",
   "execution_count": 20,
   "id": "c4f09ff5-79fa-4f9e-ba61-0fdabb2e147a",
   "metadata": {},
   "outputs": [
    {
     "data": {
      "text/plain": [
       "<Run: data=<RunData: metrics={'rmse': 5.311234357303558}, params={'max_depth': 20,\n",
       " 'min_samples_leaf': 2,\n",
       " 'min_samples_split': 10,\n",
       " 'n_estimators': 24,\n",
       " 'random_state': 42}, tags={'mlflow.runName': 'placid-fawn-521',\n",
       " 'mlflow.source.name': '/opt/miniconda3/envs/mlops-dtc/lib/python3.12/site-packages/ipykernel_launcher.py',\n",
       " 'mlflow.source.type': 'LOCAL',\n",
       " 'mlflow.user': 'cj',\n",
       " 'model': 'RandomForestRegressor'}>, info=<RunInfo: artifact_uri='/Users/cj/Documents/Projects/zoomcamp-homework/mlops/mlflow_hw_2/homework/artifacts_local/2/3509c057ffe34942924f3315e15326ef/artifacts', end_time=1716755106743, experiment_id='2', lifecycle_stage='active', run_id='3509c057ffe34942924f3315e15326ef', run_name='placid-fawn-521', run_uuid='3509c057ffe34942924f3315e15326ef', start_time=1716755099905, status='FINISHED', user_id='cj'>, inputs=<RunInputs: dataset_inputs=[]>>"
      ]
     },
     "execution_count": 20,
     "metadata": {},
     "output_type": "execute_result"
    }
   ],
   "source": [
    "r[0]"
   ]
  },
  {
   "cell_type": "code",
   "execution_count": 25,
   "id": "1511722c-f60c-46b0-99a8-97c00e762dc4",
   "metadata": {},
   "outputs": [
    {
     "name": "stderr",
     "output_type": "stream",
     "text": [
      "Successfully registered model 'best_taxi_experiment_model'.\n",
      "2024/05/26 19:01:19 INFO mlflow.store.model_registry.abstract_store: Waiting up to 300 seconds for model version to finish creation. Model name: best_taxi_experiment_model, version 1\n",
      "Created version '1' of model 'best_taxi_experiment_model'.\n"
     ]
    },
    {
     "data": {
      "text/plain": [
       "<ModelVersion: aliases=[], creation_timestamp=1716775279774, current_stage='None', description='', last_updated_timestamp=1716775279774, name='best_taxi_experiment_model', run_id='3509c057ffe34942924f3315e15326ef', run_link='', source='/Users/cj/Documents/Projects/zoomcamp-homework/mlops/mlflow_hw_2/homework/artifacts_local/2/3509c057ffe34942924f3315e15326ef/artifacts/models', status='READY', status_message='', tags={}, user_id='', version='1'>"
      ]
     },
     "execution_count": 25,
     "metadata": {},
     "output_type": "execute_result"
    }
   ],
   "source": [
    "run_id = r[0].info.run_id\n",
    "mlflow.register_model(model_uri=f\"runs:/{run_id}/models\", name=\"best_taxi_experiment_model\")\n"
   ]
  },
  {
   "cell_type": "code",
   "execution_count": 21,
   "id": "603870f7-31e0-473f-a530-d85098da50cf",
   "metadata": {},
   "outputs": [
    {
     "data": {
      "text/plain": [
       "<Experiment: artifact_location='/Users/cj/Documents/Projects/zoomcamp-homework/mlops/mlflow_hw_2/homework/artifacts_local/3', creation_time=1716772971613, experiment_id='3', last_update_time=1716772971613, lifecycle_stage='active', name='random-forest-best-models', tags={}>"
      ]
     },
     "execution_count": 21,
     "metadata": {},
     "output_type": "execute_result"
    }
   ],
   "source": [
    "e"
   ]
  },
  {
   "cell_type": "code",
   "execution_count": null,
   "id": "9c9568b8-0106-4703-a568-89fb977108d5",
   "metadata": {},
   "outputs": [],
   "source": [
    "runs = client.search_runs(\n",
    "        experiment_ids=experiment.experiment_id,\n",
    "        run_view_type=ViewType.ACTIVE_ONLY,\n",
    "        max_results=top_n,\n",
    "        order_by=[\"metrics.rmse ASC\"]\n",
    "    )"
   ]
  }
 ],
 "metadata": {
  "kernelspec": {
   "display_name": "Python 3 (ipykernel)",
   "language": "python",
   "name": "python3"
  },
  "language_info": {
   "codemirror_mode": {
    "name": "ipython",
    "version": 3
   },
   "file_extension": ".py",
   "mimetype": "text/x-python",
   "name": "python",
   "nbconvert_exporter": "python",
   "pygments_lexer": "ipython3",
   "version": "3.12.3"
  }
 },
 "nbformat": 4,
 "nbformat_minor": 5
}
