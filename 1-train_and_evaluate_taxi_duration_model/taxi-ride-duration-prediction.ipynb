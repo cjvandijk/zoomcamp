{
 "cells": [
  {
   "cell_type": "code",
   "execution_count": 1,
   "id": "619c11d4-44e2-4ea2-8a89-d6ba2a70723c",
   "metadata": {},
   "outputs": [],
   "source": [
    "import pandas as pd\n",
    "import seaborn as sns\n",
    "import matplotlib.pyplot as plt\n",
    "from sklearn.feature_extraction import DictVectorizer\n",
    "from sklearn.linear_model import LinearRegression\n",
    "from sklearn.metrics import root_mean_squared_error\n",
    "import pickle"
   ]
  },
  {
   "cell_type": "markdown",
   "id": "e45aceb1-dd68-4b6f-a252-4e446798a391",
   "metadata": {},
   "source": [
    "#### Record versions"
   ]
  },
  {
   "cell_type": "code",
   "execution_count": 2,
   "id": "40e9f0a8-f49d-4e26-8a4c-530332a414e7",
   "metadata": {},
   "outputs": [
    {
     "name": "stdout",
     "output_type": "stream",
     "text": [
      "Python 3.12.3\n"
     ]
    }
   ],
   "source": [
    "!python -V"
   ]
  },
  {
   "cell_type": "code",
   "execution_count": 3,
   "id": "64010a77-8d3d-493d-b566-fae78a327130",
   "metadata": {},
   "outputs": [
    {
     "name": "stdout",
     "output_type": "stream",
     "text": [
      "scikit-learn              1.5.0\n"
     ]
    }
   ],
   "source": [
    "!pip3 list | grep scikit"
   ]
  },
  {
   "cell_type": "markdown",
   "id": "29ab6dd8-e5c9-446e-8314-941b314922ea",
   "metadata": {},
   "source": [
    "### Downloading the data\n",
    "Using January 2023 dataset for training, February 2023 dataset for validation, both for yellow cab.\n",
    "Check columns in January dataset."
   ]
  },
  {
   "cell_type": "code",
   "execution_count": 4,
   "id": "42d7233c-c4af-414e-a4b2-ca6eedf626e6",
   "metadata": {},
   "outputs": [
    {
     "name": "stdout",
     "output_type": "stream",
     "text": [
      "yellow_tripdata_2023-01.parquet yellow_tripdata_2023-02.parquet\n"
     ]
    }
   ],
   "source": [
    "!ls ../data/"
   ]
  },
  {
   "cell_type": "code",
   "execution_count": 5,
   "id": "f605c0e7-1d67-4f58-87eb-f2a98e962a0d",
   "metadata": {},
   "outputs": [],
   "source": [
    "train_dataset = '../data/yellow_tripdata_2023-01.parquet'\n",
    "val_dataset = '../data/yellow_tripdata_2023-02.parquet'"
   ]
  },
  {
   "cell_type": "code",
   "execution_count": 6,
   "id": "2eb06362-0a5f-448e-ba56-e4235ee28a08",
   "metadata": {},
   "outputs": [
    {
     "data": {
      "text/plain": [
       "19"
      ]
     },
     "execution_count": 6,
     "metadata": {},
     "output_type": "execute_result"
    }
   ],
   "source": [
    "df = pd.read_parquet(train_dataset)\n",
    "len(df.columns)"
   ]
  },
  {
   "cell_type": "code",
   "execution_count": 7,
   "id": "01b06eed-f1b9-4b62-b119-12d74242f036",
   "metadata": {},
   "outputs": [
    {
     "data": {
      "text/plain": [
       "Index(['VendorID', 'tpep_pickup_datetime', 'tpep_dropoff_datetime',\n",
       "       'passenger_count', 'trip_distance', 'RatecodeID', 'store_and_fwd_flag',\n",
       "       'PULocationID', 'DOLocationID', 'payment_type', 'fare_amount', 'extra',\n",
       "       'mta_tax', 'tip_amount', 'tolls_amount', 'improvement_surcharge',\n",
       "       'total_amount', 'congestion_surcharge', 'airport_fee'],\n",
       "      dtype='object')"
      ]
     },
     "execution_count": 7,
     "metadata": {},
     "output_type": "execute_result"
    }
   ],
   "source": [
    "df.columns"
   ]
  },
  {
   "cell_type": "markdown",
   "id": "e6b7813f-e51e-4bfe-a727-fe6a587c2414",
   "metadata": {},
   "source": [
    "### Computing duration\n",
    "Standard deviation of the trips duration in January"
   ]
  },
  {
   "cell_type": "code",
   "execution_count": 8,
   "id": "b0006373-f809-4109-9220-6b20db37ea41",
   "metadata": {},
   "outputs": [
    {
     "data": {
      "text/plain": [
       "Timedelta('0 days 00:42:35.661074')"
      ]
     },
     "execution_count": 8,
     "metadata": {},
     "output_type": "execute_result"
    }
   ],
   "source": [
    "df[\"duration\"] = df.tpep_dropoff_datetime - df.tpep_pickup_datetime\n",
    "df.duration.std()"
   ]
  },
  {
   "cell_type": "markdown",
   "id": "b2fec5cb-45ef-4f49-adcb-cf443e1c9aa5",
   "metadata": {},
   "source": [
    "### Drop Outliers\n",
    "What fraction of the records are left after dropping the outliers?"
   ]
  },
  {
   "cell_type": "code",
   "execution_count": 9,
   "id": "35b83fe7-6032-46d1-b22e-4fa4a183c1f7",
   "metadata": {},
   "outputs": [],
   "source": [
    "def read_dataframe(filename):\n",
    "    df = pd.read_parquet(filename)\n",
    "\n",
    "    # calculate duration from data provided\n",
    "    df[\"duration\"] = df.tpep_dropoff_datetime - df.tpep_pickup_datetime\n",
    "    df.duration = df.duration.apply(lambda td: round((td.seconds / 60), 0))\n",
    "\n",
    "    # drop outliers\n",
    "    df = df[(df.duration >=1) & (df.duration <= 60)]\n",
    "\n",
    "    # prep data for DictVectorizer\n",
    "    categorical = [\"PULocationID\", \"DOLocationID\"]\n",
    "    numeric = [\"trip_distance\"]\n",
    "    df[categorical] = df[categorical].astype(str)\n",
    "    dv_dict = df[categorical + numeric].to_dict(orient=\"records\")\n",
    "    \n",
    "    return df, dv_dict\n",
    "    "
   ]
  },
  {
   "cell_type": "code",
   "execution_count": 10,
   "id": "fe26cc81-124c-4d2b-98bd-4fdc8ecac734",
   "metadata": {},
   "outputs": [],
   "source": [
    "df_train, train_dict = read_dataframe(train_dataset)\n",
    "df_val, val_dict = read_dataframe(val_dataset)"
   ]
  },
  {
   "cell_type": "code",
   "execution_count": 11,
   "id": "a19db67e-87ef-4d6c-acf7-ddf1482ea096",
   "metadata": {},
   "outputs": [
    {
     "data": {
      "text/plain": [
       "0.9837790036800982"
      ]
     },
     "execution_count": 11,
     "metadata": {},
     "output_type": "execute_result"
    }
   ],
   "source": [
    "len(df_train) / len(df)"
   ]
  },
  {
   "cell_type": "markdown",
   "id": "d36564d7-1769-4a70-9b7b-dd531963ae11",
   "metadata": {},
   "source": [
    "### One-hot encoding\n",
    "Check the dimensionality of the OHE matrix (number of columns)?"
   ]
  },
  {
   "cell_type": "code",
   "execution_count": 12,
   "id": "649119b8-e06d-440c-b95b-efe26334f54a",
   "metadata": {},
   "outputs": [],
   "source": [
    "dv = DictVectorizer()"
   ]
  },
  {
   "cell_type": "code",
   "execution_count": 13,
   "id": "ac071e4f-a347-4901-a314-3ed87223f70c",
   "metadata": {},
   "outputs": [
    {
     "data": {
      "text/plain": [
       "516"
      ]
     },
     "execution_count": 13,
     "metadata": {},
     "output_type": "execute_result"
    }
   ],
   "source": [
    "X_train = dv.fit_transform(train_dict)\n",
    "len(dv.feature_names_)"
   ]
  },
  {
   "cell_type": "markdown",
   "id": "8a23660c-6da3-4aee-af3b-192019943527",
   "metadata": {},
   "source": [
    "### Training a model\n",
    "Check RMSE on training."
   ]
  },
  {
   "cell_type": "code",
   "execution_count": 14,
   "id": "175e30c6-0722-41c3-a1c8-00abf8b44397",
   "metadata": {},
   "outputs": [],
   "source": [
    "target = 'duration'\n",
    "y_train = df_train[target].values"
   ]
  },
  {
   "cell_type": "code",
   "execution_count": 15,
   "id": "6568df5c-ab72-4ab1-9e47-04ccf2478eef",
   "metadata": {},
   "outputs": [],
   "source": [
    "lr = LinearRegression()\n",
    "lr.fit(X_train, y_train)\n",
    "y_pred = lr.predict(X_train)"
   ]
  },
  {
   "cell_type": "code",
   "execution_count": 16,
   "id": "c8512673-3407-4ca2-b103-81a7086aa41b",
   "metadata": {},
   "outputs": [
    {
     "data": {
      "text/plain": [
       "7.723924679565361"
      ]
     },
     "execution_count": 16,
     "metadata": {},
     "output_type": "execute_result"
    }
   ],
   "source": [
    "root_mean_squared_error(y_train, y_pred)"
   ]
  },
  {
   "cell_type": "markdown",
   "id": "83025d95-f6ea-4f4b-a7b2-5cafaf390a0e",
   "metadata": {},
   "source": [
    "### Evaluate the model\n",
    "Check the RMSE on validation"
   ]
  },
  {
   "cell_type": "code",
   "execution_count": 17,
   "id": "9ef08782-4ac6-4691-9c49-b75600fba96c",
   "metadata": {},
   "outputs": [
    {
     "data": {
      "text/plain": [
       "7.907238447224463"
      ]
     },
     "execution_count": 17,
     "metadata": {},
     "output_type": "execute_result"
    }
   ],
   "source": [
    "X_val = dv.transform(val_dict)\n",
    "y_val = df_val[target].values\n",
    "y_pred = lr.predict(X_val)\n",
    "root_mean_squared_error(y_val, y_pred)"
   ]
  },
  {
   "cell_type": "markdown",
   "id": "3eb8e35d-6f61-4a23-920e-e6639e665f94",
   "metadata": {},
   "source": [
    "### Save the model and vector matrix"
   ]
  },
  {
   "cell_type": "code",
   "execution_count": 18,
   "id": "08b0edbd-49ea-4fbc-bd43-30a76f6b1538",
   "metadata": {},
   "outputs": [],
   "source": [
    "with open(\"../models/24-05-17_lin_reg.bin\", \"wb\") as f_out:\n",
    "    pickle.dump((dv, lr), f_out)"
   ]
  },
  {
   "cell_type": "markdown",
   "id": "cc88ac8a-1636-4398-afd0-944e8a3da84c",
   "metadata": {},
   "source": [
    "### Visualization"
   ]
  },
  {
   "cell_type": "code",
   "execution_count": 19,
   "id": "f539af01-6cae-427f-8296-e062d562aa50",
   "metadata": {},
   "outputs": [
    {
     "data": {
      "text/plain": [
       "<seaborn.axisgrid.FacetGrid at 0x12f8f8710>"
      ]
     },
     "execution_count": 19,
     "metadata": {},
     "output_type": "execute_result"
    },
    {
     "data": {
      "image/png": "[encoded data removed]",
      "text/plain": [
       "<Figure size 500x500 with 1 Axes>"
      ]
     },
     "metadata": {},
     "output_type": "display_data"
    }
   ],
   "source": [
    "sns.displot(df_train.duration)"
   ]
  },
  {
   "cell_type": "code",
   "execution_count": null,
   "id": "6460c37d-813c-4bf1-b4bd-a5e4b6cd8098",
   "metadata": {},
   "outputs": [],
   "source": []
  },
  {
   "cell_type": "code",
   "execution_count": 20,
   "id": "abab263b-1b10-42ae-ab97-1303195f4d23",
   "metadata": {},
   "outputs": [
    {
     "data": {
      "text/plain": [
       "count    3.017020e+06\n",
       "mean     1.418910e+01\n",
       "std      9.985018e+00\n",
       "min      1.000000e+00\n",
       "50%      1.200000e+01\n",
       "95%      3.500000e+01\n",
       "98%      4.500000e+01\n",
       "99%      5.000000e+01\n",
       "max      6.000000e+01\n",
       "Name: duration, dtype: float64"
      ]
     },
     "execution_count": 20,
     "metadata": {},
     "output_type": "execute_result"
    }
   ],
   "source": [
    "df_train.duration.describe(percentiles=[0.95, 0.98, 0.99])"
   ]
  },
  {
   "cell_type": "code",
   "execution_count": 21,
   "id": "c890cccc-ef53-409d-bef0-9bd9fc732ee5",
   "metadata": {},
   "outputs": [
    {
     "data": {
      "image/png": "[encoded data removed]",
      "text/plain": [
       "<Figure size 640x480 with 1 Axes>"
      ]
     },
     "metadata": {},
     "output_type": "display_data"
    },
    {
     "data": {
      "image/png": "[encoded data removed]",
      "text/plain": [
       "<Figure size 640x480 with 1 Axes>"
      ]
     },
     "metadata": {},
     "output_type": "display_data"
    }
   ],
   "source": [
    "fig, ax = plt.subplots()\n",
    "sns.histplot(y_pred, label=\"prediction\", ax=ax)\n",
    "ax.set_xlim(0,60)\n",
    "plt.legend()\n",
    "plt.show()\n",
    "\n",
    "fig, ax = plt.subplots()\n",
    "sns.histplot(y_train, label=\"actual\", ax=ax)\n",
    "plt.legend()\n",
    "plt.show()\n"
   ]
  },
  {
   "cell_type": "code",
   "execution_count": null,
   "id": "fded4529-4560-44a6-b755-ab53007d81cf",
   "metadata": {},
   "outputs": [],
   "source": []
  },
  {
   "cell_type": "code",
   "execution_count": null,
   "id": "44c0982a-c620-4cf6-ab24-421e19025beb",
   "metadata": {},
   "outputs": [],
   "source": []
  }
 ],
 "metadata": {
  "kernelspec": {
   "display_name": "Python 3 (ipykernel)",
   "language": "python",
   "name": "python3"
  },
  "language_info": {
   "codemirror_mode": {
    "name": "ipython",
    "version": 3
   },
   "file_extension": ".py",
   "mimetype": "text/x-python",
   "name": "python",
   "nbconvert_exporter": "python",
   "pygments_lexer": "ipython3",
   "version": "3.12.3"
  }
 },
 "nbformat": 4,
 "nbformat_minor": 5
}
