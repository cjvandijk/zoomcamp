{
 "cells": [
  {
   "cell_type": "code",
   "execution_count": 33,
   "id": "8cd7d4f1-2140-4da0-84ac-1aa5803d5eef",
   "metadata": {},
   "outputs": [],
   "source": [
    "import os\n",
    "import pickle\n",
    "import click\n",
    "import mlflow\n",
    "from mlflow.tracking import MlflowClient\n",
    "\n",
    "from sklearn.ensemble import RandomForestRegressor\n",
    "from sklearn.metrics import mean_squared_error\n",
    "\n",
    "\"\"\"\n",
    "For Q3 (train model with autolog), this notebook is for experimenting\n",
    "updates to the train.py script.\n",
    "\"\"\"\n",
    "\n",
    "mlflow.set_tracking_uri(\"sqlite:///mlflow.db\")\n",
    "mlflow.set_experiment(\"nyc-taxi-experiment\")\n",
    "\n",
    "\n",
    "def load_pickle(filename: str):\n",
    "    with open(filename, \"rb\") as f_in:\n",
    "        return pickle.load(f_in)\n",
    "\n",
    "\n",
    "# @click.command()\n",
    "# @click.option(\n",
    "#     \"--data_path\",\n",
    "#     default=\"./output\",\n",
    "#     help=\"Location where the processed NYC taxi trip data was saved\"\n",
    "# )"
   ]
  },
  {
   "cell_type": "code",
   "execution_count": 34,
   "id": "13e440a2-113c-452b-965d-305c6f4a0ed2",
   "metadata": {},
   "outputs": [],
   "source": [
    "def load_pickle(filename: str):\n",
    "    with open(filename, \"rb\") as f_in:\n",
    "        return pickle.load(f_in)\n",
    "\n",
    "# @click.command()\n",
    "# @click.option(\n",
    "#     \"--data_path\",\n",
    "#     default=\"./output\",\n",
    "#     help=\"Location where the processed NYC taxi trip data was saved\"\n",
    "# )"
   ]
  },
  {
   "cell_type": "code",
   "execution_count": 35,
   "id": "842d5734-25fc-4097-9fad-bd8cc3be65fc",
   "metadata": {},
   "outputs": [],
   "source": [
    "data_path = \"./output\"\n",
    "def run_train(data_path: str):\n",
    "    \n",
    "    X_train, y_train = load_pickle(os.path.join(data_path, \"train.pkl\"))\n",
    "    X_val, y_val = load_pickle(os.path.join(data_path, \"val.pkl\"))\n",
    "\n",
    "    mlflow.sklearn.autolog()\n",
    "\n",
    "    with mlflow.start_run():\n",
    "    \n",
    "        rf = RandomForestRegressor(max_depth=10, random_state=0)\n",
    "        rf.fit(X_train, y_train)\n",
    "        y_pred = rf.predict(X_val)\n",
    "    \n",
    "        rmse = mean_squared_error(y_val, y_pred, squared=False)"
   ]
  },
  {
   "cell_type": "code",
   "execution_count": 36,
   "id": "c2692e39-cdae-4db2-9691-80bb231c30dd",
   "metadata": {},
   "outputs": [
    {
     "name": "stderr",
     "output_type": "stream",
     "text": [
      "2024/05/26 16:58:13 WARNING mlflow.sklearn: Failed to log training dataset information to MLflow Tracking. Reason: 'numpy.ndarray' object has no attribute 'toarray'\n",
      "/opt/miniconda3/envs/mlops-dtc/lib/python3.12/site-packages/sklearn/metrics/_regression.py:483: FutureWarning: 'squared' is deprecated in version 1.4 and will be removed in 1.6. To calculate the root mean squared error, use the function'root_mean_squared_error'.\n",
      "  warnings.warn(\n"
     ]
    }
   ],
   "source": [
    "run_train(data_path)"
   ]
  },
  {
   "cell_type": "code",
   "execution_count": 14,
   "id": "c6242f88-f1a9-45b2-92a3-753b8a7309b3",
   "metadata": {},
   "outputs": [
    {
     "name": "stdout",
     "output_type": "stream",
     "text": [
      "<Experiment: artifact_location='/Users/cj/Documents/Projects/zoomcamp-homework/mlops/mlflow_hw_2/homework/mlruns/1', creation_time=1716701523249, experiment_id='1', last_update_time=1716701523249, lifecycle_stage='active', name='nyc-taxi-experiment', tags={}>\n",
      "<Experiment: artifact_location='mlflow-artifacts:/0', creation_time=1716701008608, experiment_id='0', last_update_time=1716701008608, lifecycle_stage='active', name='Default', tags={}>\n"
     ]
    }
   ],
   "source": [
    "for x in mlflow.search_experiments():\n",
    "    print(x)"
   ]
  },
  {
   "cell_type": "code",
   "execution_count": 11,
   "id": "b2a54fbe-b798-4a4a-aff6-ad00a56f556a",
   "metadata": {},
   "outputs": [],
   "source": [
    "from mlflow.tracking import MlflowClient\n",
    "client = MlflowClient(\"http://127.0.0.1:5000\")"
   ]
  },
  {
   "cell_type": "code",
   "execution_count": 15,
   "id": "b1d501e0-cd62-4709-98c4-00d9b3af2f3b",
   "metadata": {},
   "outputs": [
    {
     "data": {
      "text/plain": [
       "[]"
      ]
     },
     "execution_count": 15,
     "metadata": {},
     "output_type": "execute_result"
    }
   ],
   "source": [
    "client.search_registered_models()"
   ]
  },
  {
   "cell_type": "code",
   "execution_count": 31,
   "id": "93d7ff43-6e3c-4373-b16d-86f6f4387feb",
   "metadata": {},
   "outputs": [
    {
     "data": {
      "text/plain": [
       "'a7f86290778645629acf4b816f4b5892'"
      ]
     },
     "execution_count": 31,
     "metadata": {},
     "output_type": "execute_result"
    }
   ],
   "source": [
    "run_id = client.search_runs(experiment_ids='1')[0].info.run_id\n",
    "\n",
    "run_id"
   ]
  },
  {
   "cell_type": "code",
   "execution_count": 32,
   "id": "e3ea726a-a314-445b-b9a5-477ee9118ea7",
   "metadata": {},
   "outputs": [
    {
     "name": "stderr",
     "output_type": "stream",
     "text": [
      "Successfully registered model 'taxi-model'.\n",
      "Created version '1' of model 'taxi-model'.\n"
     ]
    },
    {
     "data": {
      "text/plain": [
       "<ModelVersion: aliases=[], creation_timestamp=1716703904310, current_stage='None', description=None, last_updated_timestamp=1716703904310, name='taxi-model', run_id='a7f86290778645629acf4b816f4b5892', run_link=None, source='/Users/cj/Documents/Projects/zoomcamp-homework/mlops/mlflow_hw_2/homework/mlruns/1/a7f86290778645629acf4b816f4b5892/artifacts/models', status='READY', status_message=None, tags={}, user_id=None, version=1>"
      ]
     },
     "execution_count": 32,
     "metadata": {},
     "output_type": "execute_result"
    }
   ],
   "source": [
    "mlflow.register_model(\n",
    "    model_uri=f\"runs:/{run_id}/models\",\n",
    "    name='taxi-model'\n",
    ")"
   ]
  },
  {
   "cell_type": "code",
   "execution_count": null,
   "id": "59d4015d-92c3-4a0b-ac21-4d4900a42231",
   "metadata": {},
   "outputs": [],
   "source": []
  }
 ],
 "metadata": {
  "kernelspec": {
   "display_name": "Python 3 (ipykernel)",
   "language": "python",
   "name": "python3"
  },
  "language_info": {
   "codemirror_mode": {
    "name": "ipython",
    "version": 3
   },
   "file_extension": ".py",
   "mimetype": "text/x-python",
   "name": "python",
   "nbconvert_exporter": "python",
   "pygments_lexer": "ipython3",
   "version": "3.12.3"
  }
 },
 "nbformat": 4,
 "nbformat_minor": 5
}
